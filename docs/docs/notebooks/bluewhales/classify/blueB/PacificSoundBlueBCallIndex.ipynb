{
 "nbformat": 4,
 "nbformat_minor": 0,
 "metadata": {
  "colab": {
   "name": "BlueWhale_B-call-index.ipynb",
   "private_outputs": true,
   "provenance": [],
   "collapsed_sections": [],
   "toc_visible": true,
   "machine_shape": "hm"
  },
  "kernelspec": {
   "display_name": "Python 3 (ipykernel)",
   "language": "python",
   "name": "python3"
  },
  "language_info": {
   "codemirror_mode": {
    "name": "ipython",
    "version": 3
   },
   "file_extension": ".py",
   "mimetype": "text/x-python",
   "name": "python",
   "nbconvert_exporter": "python",
   "pygments_lexer": "ipython3",
   "version": "3.8.11"
  }
 },
 "cells": [
  {
   "cell_type": "markdown",
   "source": [
    "   ![alt text](https://www.mbari.org/wp-content/uploads/2014/11/logo-mbari-3b.png \"MBARI\")\n",
    "\n",
    "  <div align=\"left\">Copyright (c) 2021, MBARI</div>\n",
    "\n",
    "  * Distributed under the terms of the GPL License\n",
    "  * Maintainer: ryjo@mbari.org\n",
    "  * Author: John Ryan ryjo@mbari.org"
   ],
   "metadata": {
    "collapsed": false
   }
  },
  {
   "cell_type": "markdown",
   "source": [
    "## Blue whale song\n",
    "---\n",
    "Baleen whales produce rhythmic repeated sequences of sound; they sing.  This tutorial describes use of the *Pacific Ocean Sound Recordings* archive to examine temporal patterns of occurrence of blue whale song.  Signal processing methods focus on the blue whale B call.  A companion tutorial illustrates detection and classification of blue whale A calls using machine learning.\n",
    "\n",
    "If you use this data set, please **[cite our project](https://ieeexplore.ieee.org/document/7761363).**\n"
   ],
   "metadata": {
    "collapsed": false
   }
  },
  {
   "cell_type": "markdown",
   "source": [
    "## Data Overview\n",
    "---"
   ],
   "metadata": {
    "collapsed": false
   }
  },
  {
   "cell_type": "markdown",
   "source": [
    "### Recording site\n",
    "The [recording site](https://www.mbari.org/at-sea/cabled-observatory/) is located on the continental slope of the eastern North Pacific, within [Monterey Bay National Marine Sanctuary](https://montereybay.noaa.gov/). The region is known to be [important foraging habitat](https://www.cascadiaresearch.org/publications/biologically-important-areas-selected-cetaceans-within-us-waters-%E2%80%93-west-coast-region) for the regional blue whale population."
   ],
   "metadata": {
    "collapsed": false
   }
  },
  {
   "cell_type": "markdown",
   "source": [
    "### Hydrophone calibration\n",
    "For the low-frequency (2 kHz) data, calibration data are not frequency dependent; a single low-frequency calibration value is used.  Its value depends on time of data collection, as two hydrophones have been deployed sequentially at the same site.  Before 14 June 2017, the calibration value is -168.8 dB re V / uPa (measured at 26 Hz).  After this date the value is -177.9 dB re V / uPa (measured at 250 Hz).  See also:\n",
    "\n",
    "\n",
    "*   https://bitbucket.org/mbari/pacific-sound/src/master/MBARI_MARS_Hydrophone_Deployment01.json\n",
    "*   https://bitbucket.org/mbari/pacific-sound/src/master/MBARI_MARS_Hydrophone_Deployment02.json\n",
    "\n",
    "The first hydrophone exhibited calibration drift, while the second (deployed 13 June 2017 and currently operational) has not.  This observation is consistent with differences in the technologies of the two instruments.  However, for this application the calibration drift of the first hydrophone is not problematic because the CI is computed as a signal to noise ratio.  Therefore, time-series analysis of CI can reliably span the full archive."
   ],
   "metadata": {
    "collapsed": false
   }
  },
  {
   "cell_type": "markdown",
   "source": [
    "### Data files and archive organization\n",
    "The decimated audio data are in daily [WAV](https://en.wikipedia.org/wiki/WAV) files in an s3 bucket named <b>pacific-sound-2khz</b>, grouped by year and month.  Buckets are stored as objects, so the data are not physically stored in folders or directories as you may be famaliar with, but you can think of it conceptually as follows:\n",
    "\n",
    "```\n",
    "pacific-sound-2khz\n",
    "      |\n",
    "      ----2020\n",
    "        |\n",
    "        |----01\n",
    "        ...\n",
    "        |----12\n",
    "```\n"
   ],
   "metadata": {
    "collapsed": false
   }
  },
  {
   "cell_type": "markdown",
   "source": [
    "## Install dependencies\n",
    "---\n",
    "Install dependencies and include all packages used in this tutorial. This only needs to be done once for the duration of this notebook."
   ],
   "metadata": {
    "collapsed": false
   }
  },
  {
   "cell_type": "code",
   "execution_count": null,
   "outputs": [],
   "source": [
    "!pip install -q boto3 --quiet\n",
    "!pip install -q soundfile --quiet\n",
    "!pip install -q scipy --quiet\n",
    "!pip install -q numpy --quiet\n",
    "!pip install -q matplotlib --quiet\n",
    "import boto3, botocore\n",
    "from botocore import UNSIGNED\n",
    "from botocore.client import Config\n",
    "from six.moves.urllib.request import urlopen\n",
    "import io\n",
    "import scipy\n",
    "from scipy import signal\n",
    "import numpy as np\n",
    "import soundfile as sf\n",
    "import matplotlib.pyplot as plt"
   ],
   "metadata": {
    "collapsed": false,
    "pycharm": {
     "name": "#%%\n"
    }
   }
  },
  {
   "cell_type": "markdown",
   "source": [
    "## Data Access\n",
    "---\n",
    "This section covers file listing, metadata retrieval, and data loading."
   ],
   "metadata": {
    "collapsed": false
   }
  },
  {
   "cell_type": "markdown",
   "source": [
    "### List files\n",
    "Files are organized by year and month; list all of the files available for one month of one year."
   ],
   "metadata": {
    "collapsed": false
   }
  },
  {
   "cell_type": "code",
   "execution_count": null,
   "outputs": [],
   "source": [
    "s3 = boto3.client('s3',\n",
    "    aws_access_key_id='',\n",
    "    aws_secret_access_key='',\n",
    "    config=Config(signature_version=UNSIGNED))"
   ],
   "metadata": {
    "collapsed": false,
    "pycharm": {
     "name": "#%%\n"
    }
   }
  },
  {
   "cell_type": "code",
   "execution_count": null,
   "outputs": [],
   "source": [
    "year = \"2016\"\n",
    "month = \"11\"\n",
    "bucket = 'pacific-sound-2khz'\n",
    "\n",
    "for obj in s3.list_objects_v2(Bucket=bucket, Prefix=f'{year}/{month}')['Contents']:\n",
    "    print(obj['Key'])"
   ],
   "metadata": {
    "collapsed": false,
    "pycharm": {
     "name": "#%%\n"
    }
   }
  },
  {
   "cell_type": "markdown",
   "source": [
    "### Retrieve metadata\n",
    "Read and show metadata for a single daily file."
   ],
   "metadata": {
    "collapsed": false
   }
  },
  {
   "cell_type": "code",
   "execution_count": null,
   "outputs": [],
   "source": [
    "year = \"2016\"\n",
    "month = \"11\"\n",
    "filename = 'MARS-20161101T000000Z-2kHz.wav'\n",
    "bucket = 'pacific-sound-2khz'\n",
    "key = f'{year}/{month}/{filename}'\n",
    "\n",
    "url = f'https://{bucket}.s3.amazonaws.com/{key}'\n",
    "\n",
    "sf.info(io.BytesIO(urlopen(url).read(1_000)), verbose=True)"
   ],
   "metadata": {
    "collapsed": false,
    "pycharm": {
     "name": "#%%\n"
    }
   }
  },
  {
   "cell_type": "markdown",
   "source": [
    "### Load data\n",
    "Read a single daily file."
   ],
   "metadata": {
    "collapsed": false
   }
  },
  {
   "cell_type": "code",
   "execution_count": null,
   "outputs": [],
   "source": [
    "# read full-day of data\n",
    "print(f'Reading from {url}')\n",
    "v, sample_rate = sf.read(io.BytesIO(urlopen(url).read()),dtype='float32')\n",
    "v = v*3   # convert scaled voltage to volts\n",
    "nsec = (v.size)/sample_rate # number of seconds in vector\n",
    "print(f'Read {nsec} seconds of data')"
   ],
   "metadata": {
    "collapsed": false,
    "pycharm": {
     "name": "#%%\n"
    }
   }
  },
  {
   "cell_type": "markdown",
   "source": [
    "## A view of blue whale song\n",
    "---\n",
    "To understand the method of quantifying song occurrence using an energy metric, it is useful to first consider the attributes of blue whale song.  Songs of the northeast Pacific blue whale population include three types of calls: A, B, and C.  The B calls have the strongest intensity and are thus often used to characterize song occurrence.\n",
    "\n",
    "Analysis approaches include (1) detecting, classifying, and counting calls, and (2) quantifying the energy within the frequency band of the call, relative to that at background frequencies.  The first approach becomes difficult during periods when the whales chorus because the presence of overlapping calls thwarts distinction of individual calls.  The second approach can be applied consistently regardless of whether or not vocalizations overlap.  Application of this second approach to years of recordings, together with animal-borne metrics, revealed an [acoustic signature of blue whale migration](https://www.sciencedirect.com/science/article/pii/S0960982220313312).\n",
    "\n"
   ],
   "metadata": {
    "collapsed": false
   }
  },
  {
   "cell_type": "code",
   "execution_count": null,
   "outputs": [],
   "source": [
    "# Compute spectrogram\n",
    "w = scipy.signal.get_window('hann',sample_rate)\n",
    "f, t, psd = scipy.signal.spectrogram(v, sample_rate,nperseg=sample_rate,noverlap=0,window=w,nfft=sample_rate)\n",
    "sens = -168.8  # hydrophone sensitivity at 26 Hz\n",
    "psd = 10*np.log10(psd) - sens\n",
    "print(f':: psd.shape           = {psd.shape}')\n",
    "print(f':: f.size              = {f.size}')\n",
    "print(f':: t.size              = {t.size}')\n",
    "\n",
    "# Subset 30 minutes\n",
    "start_hour = 7\n",
    "start_sec = int(start_hour * 3600 + 1)\n",
    "end_sec = start_sec+1800-1\n",
    "psd_subset = psd[:,start_sec:end_sec]\n",
    "\n",
    "# Plot\n",
    "plt.figure(dpi=200, figsize = [9,3])\n",
    "plt.imshow(psd_subset,aspect='auto',origin='lower',vmin=45,vmax=95)\n",
    "plt.plot([1, 1790],[39, 39],'w--')\n",
    "plt.plot([1, 1790],[48, 48],'w--')\n",
    "plt.colorbar()\n",
    "plt.ylim(8,150)\n",
    "plt.yscale('log')\n",
    "plt.xlabel('Second of hour 07')\n",
    "plt.ylabel('Frequency (Hz)')\n",
    "plt.title('Spectrum level (dB re 1 $\\mu$Pa$^2$/Hz)')\n",
    "plt.annotate(\"C\",(1100,10),color='w')\n",
    "plt.annotate(\"B\",(1100,13.5),color='w')\n",
    "plt.annotate(\"B$_2$\",(1100,27),color='w')\n",
    "plt.annotate(\"B$_3$\",(1100,41),color='w')\n",
    "plt.annotate(\"B$_4$\",(1100,55),color='w')\n",
    "plt.annotate(\"A\",(1100,78),color='w')\n",
    "plt.annotate(\"blue whale calls\",(950,110),color='w')\n",
    "plt.annotate(\"fin whale calls\",(1300,20),color='w')"
   ],
   "metadata": {
    "collapsed": false,
    "pycharm": {
     "name": "#%%\n"
    }
   }
  },
  {
   "cell_type": "markdown",
   "source": [
    "In the spectrogram above, the whale call labels align with the frequency bands where the call energy occurs.  The third harmonic of the B call, within the frequency band defined by the dashed lines, carries the most energy and is the strongest signal for analysis.  Fin whale calls occurred throughout the time period shown, brief pulses with energy between the fundamental and second harmonic of the blue whale B calls."
   ],
   "metadata": {
    "collapsed": false
   }
  },
  {
   "cell_type": "markdown",
   "source": [
    "## Call index\n",
    "---\n",
    "To consider the peak and background frequencies used in the calculation of call index, let's examine the average spectrum levels for period shown."
   ],
   "metadata": {
    "collapsed": false
   }
  },
  {
   "cell_type": "code",
   "execution_count": null,
   "outputs": [],
   "source": [
    "m = np.mean(psd_subset,axis=1)\n",
    "plt.figure(dpi=200, figsize = [7,3])\n",
    "plt.plot(m,f,'k')\n",
    "plt.ylim(35,52)\n",
    "plt.xlim(62,81)\n",
    "plt.plot([62, 81],[43, 43],'b--')\n",
    "plt.plot([62, 81],[44, 44],'b--')\n",
    "plt.plot([62, 81],[37, 37],'r--')\n",
    "plt.plot([62, 81],[50, 50],'r--')\n",
    "plt.xlabel('Mean spectrum level (dB re 1 $\\mu$Pa$^2$/Hz)')\n",
    "plt.ylabel('Frequency (Hz)')\n",
    "# cif.blue = [37 43 44 50];\n"
   ],
   "metadata": {
    "collapsed": false,
    "pycharm": {
     "name": "#%%\n"
    }
   }
  },
  {
   "cell_type": "markdown",
   "source": [
    "The average energy within the peak caused by B calls (frequencies indicated by dashed blue lines) is much higher than the background (frequencies indicated by dashed red lines).  The call index (CI) is simply the ratio of signal (average spectrum level at the peak frequencies) to noise (average spectrum level at the background frequencies).  From the plot of average spectrum levels above, we can estimate a CI of approximately 1.25 for that time period.  To examine response of the index to individual calls, let's compute CI at 1-second resolution."
   ],
   "metadata": {
    "collapsed": false
   }
  },
  {
   "cell_type": "code",
   "execution_count": null,
   "outputs": [],
   "source": [
    "# find the frequencies of the peak and average spectrum levels\n",
    "p1 = psd_subset[f==43]; p2 = psd_subset[f==44];\n",
    "pk = np.squeeze(np.array([p1,p2]))\n",
    "pk = np.mean(pk,axis=0); pk.shape\n",
    "# plt.plot(pk)\n",
    "# find the frequencies of the background and average\n",
    "b1 = psd_subset[f==37]; b2 = psd_subset[f==50];\n",
    "bg = np.squeeze(np.array([b1,b2]))\n",
    "bg = np.mean(bg,axis=0); bg.shape\n",
    "# plt.plot(pk/bg)\n",
    "# CI\n",
    "CI = pk/bg;\n",
    "plt.figure(dpi=200, figsize = [9,3])\n",
    "plt.plot(CI)\n",
    "plt.xlabel('Seconds')\n",
    "plt.ylabel('CI')"
   ],
   "metadata": {
    "collapsed": false,
    "pycharm": {
     "name": "#%%\n"
    }
   }
  },
  {
   "cell_type": "markdown",
   "source": [
    "##Time-series analysis\n",
    "---\n",
    "Now that we have illustrated the methods of computing the call index, we can execute batch processing to extract time-series statistics.  The studies that motivated this tutorial examined six years of data.  For illustration purposes here, we'll produce daily statistics for the same month as the brief period examined above.\n",
    "\n",
    "For time-series analysis, additional considerations for the methods arise.  The first is that the recording time-series contains gaps ranging from minutes to days.  Each daily 2 kHz file is fully populated (contains 1 day of data), and missing data periods are indicated by zero values.  Therefore, gaps can be identified as contiguous segments of data having zero values.  The second consideration is that blue whale B calls have a relatively long duration, thus computing power spectral density over periods longer than 1 second (as above) can be useful data reduction in time-series analysis.  Therefore, below we will use a 15-second window for psd calculation, and we will screen missing data periods.\n",
    "\n"
   ],
   "metadata": {
    "collapsed": false
   }
  },
  {
   "cell_type": "code",
   "execution_count": null,
   "outputs": [],
   "source": [
    "# Determine the number of data files available for the month\n",
    "num_files = 0\n",
    "for obj in s3.list_objects_v2(Bucket=bucket, Prefix=f'{year}/{month}')['Contents']:\n",
    "    print(obj['Key'])\n",
    "    num_files = num_files+1"
   ],
   "metadata": {
    "collapsed": false,
    "pycharm": {
     "name": "#%%\n"
    }
   }
  },
  {
   "cell_type": "markdown",
   "source": [
    "###Single-day processing\n",
    "First, define the standard daily processing steps."
   ],
   "metadata": {
    "collapsed": false
   }
  },
  {
   "cell_type": "code",
   "execution_count": null,
   "outputs": [],
   "source": [
    "# define standard segment processing\n",
    "w = scipy.signal.get_window('hann',sample_rate)\n",
    "total_sec = v.size / sample_rate # total number of seconds in vector\n",
    "spa = 60  # seconds per average\n",
    "num_segments = int(total_sec/spa)\n",
    "print(f'{num_segments} segments of length {spa} seconds in {total_sec} seconds of audio')\n",
    "\n",
    "# initialize empty spectrogram\n",
    "nyquist_freq = int(sample_rate/2+1)\n",
    "sg = np.empty((nyquist_freq, num_segments), float)\n",
    "print(f':: individual spectrogram shape   =   {sg.shape}')\n",
    "\n",
    "# process spectrogram, capturing number of zero values in data\n",
    "for x in range(0,num_segments):\n",
    "  cstart = x*spa*sample_rate; cend = (x+1)*spa*sample_rate\n",
    "  cv = v[cstart:cend]\n",
    "  f,psd = scipy.signal.welch(cv,fs=sample_rate,window=w,nfft=sample_rate)\n",
    "  psd = 10*np.log10(psd) - sens\n",
    "  sg[:,x] = psd\n",
    "\n",
    "# plot spectrogram for example day\n",
    "plt.figure(dpi=200, figsize = [9,3])\n",
    "plt.imshow(sg,aspect='auto',origin='lower',vmin=40,vmax=100)\n",
    "plt.yscale('log')\n",
    "plt.ylim(10,1000)\n",
    "plt.colorbar()\n",
    "plt.xlabel('Minute of day')\n",
    "plt.ylabel('Frequency (Hz)')\n",
    "plt.title('Calibrated spectrum levels')"
   ],
   "metadata": {
    "collapsed": false,
    "pycharm": {
     "name": "#%%\n"
    }
   }
  },
  {
   "cell_type": "markdown",
   "source": [
    "In the frequency band of the B-call third harmonic, just above 40 Hz, we can see calls present throughout the day, with greatest intensity between ~ minutes 400 and 600.\n",
    "\n",
    "To consider day-to-day variability, let's process a month of data, representing mean CI for each day.  We will still process in 1-minute segments, which allows us to identify periods of missing data and exclude them from analysis."
   ],
   "metadata": {
    "collapsed": false
   }
  },
  {
   "cell_type": "code",
   "execution_count": null,
   "outputs": [],
   "source": [
    "# Batch process the month of daily files\n",
    "F = -1   # first row index will be 0 after increment\n",
    "spa = 60  # seconds per average\n",
    "num_segments = int(86400/spa)   # number of processing segments\n",
    "# Initialize arrays to hold CI and zero count results\n",
    "# dimensions: number of days x number of segments per day\n",
    "CIm = np.zeros((num_files,num_segments))\n",
    "zero_count = np.zeros((num_files,num_segments))\n",
    "\n",
    "sample_rate = 2000   # data sample rate\n",
    "w = scipy.signal.get_window('hann',sample_rate)   # 1-second window for 2 kHz data\n",
    "nyquist_freq = int(sample_rate/2+1)   # number of output frequencies in spectrogram\n",
    "\n",
    "for obj in s3.list_objects_v2(Bucket=bucket, Prefix=f'{year}/{month}')['Contents']:\n",
    "  F = F+1\n",
    "  # read file\n",
    "  filename = obj['Key']\n",
    "  url = f'https://{bucket}.s3.amazonaws.com/{filename}'\n",
    "  print(f'Reading from {url}')\n",
    "  v, fs = sf.read(io.BytesIO(urlopen(url).read()),dtype='float32')\n",
    "  v = v*3   # convert scaled voltage to volts\n",
    "\n",
    "  # initialize empty spectrogram\n",
    "  sg = np.empty((nyquist_freq, num_segments), float)\n",
    "\n",
    "  # process spectrogram, capturing number of zero values in data\n",
    "  for x in range(0,num_segments):\n",
    "    cstart = x*spa*fs; cend = (x+1)*spa*fs; cv = v[cstart:cend]\n",
    "    f,psd = scipy.signal.welch(cv,fs,window=w,nfft=fs)\n",
    "    psd = 10*np.log10(psd) - sens\n",
    "    sg[:,x] = psd\n",
    "    zero_count[F,x] = (cv == 0).sum(0)\n",
    "\n",
    "  # CI\n",
    "  # find the frequencies of the peak and average spectrum levels\n",
    "  p1 = sg[f==43]; p2 = sg[f==44];\n",
    "  pk = np.squeeze(np.array([p1,p2]))\n",
    "  pk = np.mean(pk,axis=0);\n",
    "  # find the frequencies of the background and average\n",
    "  b1 = sg[f==37]; b2 = sg[f==50];\n",
    "  bg = np.squeeze(np.array([b1,b2]))\n",
    "  bg = np.mean(bg,axis=0);\n",
    "\n",
    "  # CI\n",
    "  CIm[F,:] = pk/bg;"
   ],
   "metadata": {
    "collapsed": false,
    "pycharm": {
     "name": "#%%\n"
    }
   }
  },
  {
   "cell_type": "markdown",
   "source": [
    "Viewing the arrays containing 1-minute CI and missing data counts."
   ],
   "metadata": {
    "collapsed": false
   }
  },
  {
   "cell_type": "code",
   "execution_count": null,
   "outputs": [],
   "source": [
    "plt.figure(dpi=200, figsize = [9,3])\n",
    "plt.imshow(CIm,aspect='auto',origin='lower')\n",
    "plt.xlabel('Minute of day')\n",
    "plt.ylabel('Day of month')\n",
    "plt.title('Blue whale B call index')\n",
    "plt.colorbar()"
   ],
   "metadata": {
    "collapsed": false,
    "pycharm": {
     "name": "#%%\n"
    }
   }
  },
  {
   "cell_type": "code",
   "execution_count": null,
   "outputs": [],
   "source": [
    "plt.figure(dpi=200, figsize = [9,3])\n",
    "percent_missing = 100*zero_count/(spa*sample_rate)\n",
    "plt.imshow(percent_missing,aspect='auto',origin='lower')\n",
    "plt.xlabel('Minute of day')\n",
    "plt.ylabel('Day of month')\n",
    "plt.title('Percent of minute having missing data')\n",
    "plt.colorbar()"
   ],
   "metadata": {
    "collapsed": false,
    "pycharm": {
     "name": "#%%\n"
    }
   }
  },
  {
   "cell_type": "markdown",
   "source": [
    "Missing data occurred on only one day this month.  We'll screen the missing data period in computing daily means."
   ],
   "metadata": {
    "collapsed": false
   }
  },
  {
   "cell_type": "code",
   "execution_count": null,
   "outputs": [],
   "source": [
    "CImean = np.mean(CIm, axis = 1); CImean"
   ],
   "metadata": {
    "collapsed": false,
    "pycharm": {
     "name": "#%%\n"
    }
   }
  },
  {
   "cell_type": "markdown",
   "source": [
    "Means are computed for all days except the one with missing data."
   ],
   "metadata": {
    "collapsed": false
   }
  },
  {
   "cell_type": "code",
   "execution_count": null,
   "outputs": [],
   "source": [
    "CImean[18]"
   ],
   "metadata": {
    "collapsed": false,
    "pycharm": {
     "name": "#%%\n"
    }
   }
  },
  {
   "cell_type": "markdown",
   "source": [
    "Isolate the valid 1-minute CI values for this day."
   ],
   "metadata": {
    "collapsed": false
   }
  },
  {
   "cell_type": "code",
   "execution_count": null,
   "outputs": [],
   "source": [
    "c = CIm[18,]; p = percent_missing[18,];\n",
    "# Limit valid CI to minutes with < 1% of data missing\n",
    "c = c[p < 1]\n",
    "CImean[18] = np.mean(c)"
   ],
   "metadata": {
    "collapsed": false,
    "pycharm": {
     "name": "#%%\n"
    }
   }
  },
  {
   "cell_type": "code",
   "execution_count": null,
   "outputs": [],
   "source": [
    "plt.figure(dpi=200, figsize = [9,3])\n",
    "plt.plot(CImean,'--p')\n",
    "plt.xlabel('Day of Month')\n",
    "plt.ylabel('Mean CI')"
   ],
   "metadata": {
    "collapsed": false,
    "pycharm": {
     "name": "#%%\n"
    }
   }
  }
 ]
}