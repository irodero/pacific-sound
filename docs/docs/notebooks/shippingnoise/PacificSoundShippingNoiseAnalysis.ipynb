{
 "cells": [
  {
   "cell_type": "markdown",
   "metadata": {
    "id": "vmlzyjyZStZ3"
   },
   "source": [
    "   ![alt text](https://www.mbari.org/wp-content/uploads/2014/11/logo-mbari-3b.png \"MBARI\")\n",
    "\n",
    "  <div align=\"left\">Copyright (c) 2021, MBARI</div>\n",
    "    \n",
    "  * Distributed under the terms of the GPL License\n",
    "  * Maintainer: ryjo@mbari.org\n",
    "  * Authors: John Ryan ryjo@mbari.org"
   ]
  },
  {
   "cell_type": "markdown",
   "metadata": {
    "id": "6h0JRTviT-fW"
   },
   "source": [
    "## Shipping Noise Analysis\n",
    "---\n",
    "This tutorial describes use of the *Pacific Ocean Sound Recordings* archive to examine variation in a major source of noise in the ocean: shipping.  Because the lower frequencies of shipping noise travel farther and are thus more detectable regionally, we can use audio data with a relatively low sample rate to examine it.  For efficiency, this tutorial uses the 2 kHz data archive (decimated from the original 256 kHz recordings).  The derived metric is mean-square sound pressure spectral density in the one-third octave band centered at 63 Hz, an [international standard](https://publications.jrc.ec.europa.eu/repository/handle/JRC88045).  This tutorial covers reading and processing of the audio data to produce the metric, and examination of time-series results.  It is based on the methods of a [recent publication](https://www.frontiersin.org/articles/10.3389/fmars.2021.656566/full) that showed reduction of shipping noise during onset of the COVID-19 pandemic.\n",
    "\n",
    "If you use this data set, please **[cite our project](https://ieeexplore.ieee.org/document/7761363).**\n"
   ]
  },
  {
   "cell_type": "markdown",
   "metadata": {
    "id": "6CUsiqQnAf6z"
   },
   "source": [
    "## Data Overview\n",
    "---"
   ]
  },
  {
   "cell_type": "markdown",
   "metadata": {
    "id": "FpDVTEOEZ-qn"
   },
   "source": [
    "### Recording site\n",
    "The [recording site](https://www.mbari.org/at-sea/cabled-observatory/) is located on the continental slope of the eastern North Pacific, within [Monterey Bay National Marine Sanctuary](https://montereybay.noaa.gov/). This site is not near any major ports, thus it does not experience extremely high levels of shipping noise.  However, offshore shipping lanes pass within approximately 20 km of the recorder, and the noise of shipping is a significant part of the local soundscape."
   ]
  },
  {
   "cell_type": "markdown",
   "metadata": {
    "id": "VUkbt_sRA_a5"
   },
   "source": [
    "### Hydrophone calibration\n",
    "For the low-frequency (2 kHz) data, calibration data are not frequency dependent; a single low-frequency calibration value is used.  Its value depends on time of data collection, as two hydrophones have been deployed sequentially at the same site.  Before 14 June 2017, the calibration value is -168.8 dB re V / uPa (measured at 26 Hz).  After this date the value is -177.9 dB re V / uPa (measured at 250 Hz).\n",
    "\n",
    "Further calibration details can for the first calibration deployement and\n",
    "*   https://bitbucket.org/mbari/pacific-sound/src/master/MBARI_MARS_Hydrophone_Deployment01.json\n",
    "*   https://bitbucket.org/mbari/pacific-sound/src/master/MBARI_MARS_Hydrophone_Deployment02.json\n",
    "\n",
    "There is an important distinction between the deployed hydrophones, relevant to time-series analysis.  The first hydrophone exhibited calibration drift, while the second (deployed 13 June 2017 and currently operational) has not.  This observation is consistent with differences in the technologies of the two instruments.  What it means for this application is that time-series analysis of shipping noise should be constrained to the period of the second hydrophone deployment."
   ]
  },
  {
   "cell_type": "markdown",
   "metadata": {
    "id": "Uaa30LYbAop6"
   },
   "source": [
    "### Data files and archive organization\n",
    "The decimated audio data are in daily [WAV](https://en.wikipedia.org/wiki/WAV) files in an s3 bucket named <b>pacific-sound-2khz</b>, grouped by year and month.  Buckets are stored as objects, so the data are not physically stored in folders or directories as you may be famaliar with, but you can think of it conceptually as follows:\n",
    "\n",
    "```\n",
    "pacific-sound-2khz\n",
    "      |\n",
    "      ----2020\n",
    "        |\n",
    "        |----01\n",
    "        ...\n",
    "        |----12\n",
    "```\n"
   ]
  },
  {
   "cell_type": "markdown",
   "metadata": {
    "id": "H8P2AGrQUOxu"
   },
   "source": [
    "## Install dependencies\n",
    "---\n",
    "Install dependencies and include all packages used in this tutorial. This only needs to be done once for the duration of this notebook."
   ]
  },
  {
   "cell_type": "code",
   "execution_count": null,
   "metadata": {
    "id": "bu5cv0WFx3hX"
   },
   "outputs": [],
   "source": [
    "!pip install -q boto3 --quiet\n",
    "!pip install -q soundfile --quiet\n",
    "!pip install -q scipy --quiet\n",
    "!pip install -q numpy --quiet\n",
    "!pip install -q matplotlib --quiet\n",
    "import boto3, botocore\n",
    "from botocore import UNSIGNED\n",
    "from botocore.client import Config\n",
    "from six.moves.urllib.request import urlopen\n",
    "import io\n",
    "import scipy\n",
    "from scipy import signal\n",
    "import numpy as np\n",
    "import soundfile as sf\n",
    "import matplotlib.pyplot as plt"
   ]
  },
  {
   "cell_type": "markdown",
   "metadata": {
    "id": "87EGQ0Oc5oD5"
   },
   "source": [
    "## Data Access\n",
    "---\n",
    "This section covers file listing, metadata retrieval, and data loading."
   ]
  },
  {
   "cell_type": "markdown",
   "metadata": {
    "id": "XCrebjlq4Wlu"
   },
   "source": [
    "### List files\n",
    "Files are organized by year and month; list all of the files available for one month of one year."
   ]
  },
  {
   "cell_type": "code",
   "execution_count": null,
   "metadata": {
    "id": "bW3CX3QM5yhy"
   },
   "outputs": [],
   "source": [
    "s3 = boto3.client('s3',\n",
    "    aws_access_key_id='',\n",
    "    aws_secret_access_key='', \n",
    "    config=Config(signature_version=UNSIGNED))"
   ]
  },
  {
   "cell_type": "code",
   "execution_count": null,
   "metadata": {
    "id": "_t5aG6C66KZD"
   },
   "outputs": [],
   "source": [
    "year = \"2021\"\n",
    "month = \"05\"\n",
    "bucket = 'pacific-sound-2khz'\n",
    "\n",
    "for obj in s3.list_objects_v2(Bucket=bucket, Prefix=f'{year}/{month}')['Contents']:\n",
    "    print(obj['Key'])"
   ]
  },
  {
   "cell_type": "markdown",
   "metadata": {
    "id": "636LHKTbAgNf"
   },
   "source": [
    "### Retrieve metadata\n",
    "Read and show metadata for a single daily file."
   ]
  },
  {
   "cell_type": "code",
   "execution_count": null,
   "metadata": {
    "id": "X2y_ADUFWOKP"
   },
   "outputs": [],
   "source": [
    "year = \"2021\"\n",
    "month = \"05\"\n",
    "filename = 'MARS-20210521T000000Z-2kHz.wav'\n",
    "bucket = 'pacific-sound-2khz'\n",
    "key = f'{year}/{month}/{filename}'\n",
    "\n",
    "url = f'https://{bucket}.s3.amazonaws.com/{key}'\n",
    "\n",
    "sf.info(io.BytesIO(urlopen(url).read(1_000)), verbose=True) "
   ]
  },
  {
   "cell_type": "markdown",
   "metadata": {
    "id": "Dj4G4njL3kyu"
   },
   "source": [
    "### Load data\n",
    "Read the full content of a single daily file."
   ]
  },
  {
   "cell_type": "code",
   "execution_count": null,
   "metadata": {
    "id": "secilEU835tT"
   },
   "outputs": [],
   "source": [
    "# read full-day of data\n",
    "print(f'Reading from {url}')\n",
    "v, sample_rate = sf.read(io.BytesIO(urlopen(url).read()),dtype='float32') \n",
    "v = v*3   # convert scaled voltage to volts\n",
    "num_secs = (v.size) / sample_rate # number of seconds in vector\n",
    "print(f'Read {num_secs} seconds of data')"
   ]
  },
  {
   "cell_type": "markdown",
   "metadata": {
    "id": "1JZRxlnaIOhP"
   },
   "source": [
    "## Shipping noise metric\n",
    "---\n",
    "Our focal metric is the mean-square sound pressure spectral density, ISO 18405 3.1.3.13, for the one-third octave band centered at 63 Hz (ISO, 2017; Dekeling et al., 2014).  To compute this metric effectively, we must distinguish shipping noise from other signals in the same frequency band.  At this recording site, we have found that other signals (harmonics of blue whale vocalizations, mechanical disturbance of the recorder) can influence the metric (see examples in Figure 3 of [this paper](https://www.frontiersin.org/articles/10.3389/fmars.2021.656566/full)).  However, they are more ephemeral than shipping noise and their influence can be minimized simply by computing median values of the metric within a sufficiently long temporal bin.  A temporal bin of 1 minute is applied here to the focal metric computed at 1-second resolution.  Because the audio data have a DC offset and zeros are used to identify missing data, we also want to identify time periods of missing data using the percent of each minute having zero values.  This is important for screening values then enter into time-binned statistics."
   ]
  },
  {
   "cell_type": "markdown",
   "metadata": {
    "id": "eZGEyeb--SSx"
   },
   "source": [
    "### Compute spectrogram\n",
    "The first step is to compute a spectrogram from non-overlapping 1-second segments.  A frequency resoltion of 1 Hz effectively enables averaging of power spectral density over the focal frequency band. "
   ]
  },
  {
   "cell_type": "code",
   "execution_count": null,
   "metadata": {
    "id": "VufcaglX-OOA"
   },
   "outputs": [],
   "source": [
    "# Compute spectrogram \n",
    "w = scipy.signal.get_window('hann',sample_rate)\n",
    "f, t, psd = scipy.signal.spectrogram(v, sample_rate,nperseg=sample_rate,noverlap=0,window=w,nfft=sample_rate)\n",
    "print(f':: psd.shape           = {psd.shape}')\n",
    "print(f':: f.size              = {f.size}')\n",
    "print(f':: t.size              = {t.size}')\n"
   ]
  },
  {
   "cell_type": "markdown",
   "metadata": {
    "id": "chZDT-nV-zdE"
   },
   "source": [
    "### Extract focal frequency band\n",
    "The next step is to average power spectral density for the one-third octave band centered at 63 Hz.  Band limits are rounded to the nearst Hz."
   ]
  },
  {
   "cell_type": "code",
   "execution_count": null,
   "metadata": {
    "id": "iuyirkZg_1yc"
   },
   "outputs": [],
   "source": [
    "idx = np.where(np.logical_and(f>=56, f<=71))\n",
    "print(f':: selected frequencies are {f[idx]}')\n",
    "psd_sub = np.squeeze(psd[idx,:])\n",
    "print(f':: psd_sub.shape          = {psd_sub.shape}')\n",
    "# band psd\n",
    "band_psd = np.mean(psd_sub, axis=0)\n",
    "# Convert to dB\n",
    "sens = -177.9  # hydrophone sensitivity for this file\n",
    "band_psd = 10*np.log10(band_psd)-sens\n",
    "print(f':: band_psd.size             = {band_psd.size}')\n",
    "print(f':: min of band psd        = {min(band_psd)}')\n",
    "print(f':: max of band pad        = {max(band_psd)}')"
   ]
  },
  {
   "cell_type": "markdown",
   "metadata": {
    "id": "WGHEshKmDGI9"
   },
   "source": [
    "### Compute 1-minute median (L50)\n",
    "Finally, we compute median spectrum levels at 1 minute resolution.\n"
   ]
  },
  {
   "cell_type": "code",
   "execution_count": null,
   "metadata": {
    "id": "ctR7hJbnG4bo"
   },
   "outputs": [],
   "source": [
    "# reshape the 1-second vector\n",
    "print(f':: band_psd.size           = {band_psd.size}')\n",
    "L = np.reshape(band_psd,(1440,60))\n",
    "print(f':: L.shape             = {L.shape}')\n",
    "L50 = np.median(L,axis=1)\n",
    "print(f':: L50.size            = {L50.size}')\n",
    "print(f':: min(L50)            = {min(L50)}')\n",
    "print(f':: max(L50)            = {max(L50)}')\n",
    "# get a time reference for the 1-minute median\n",
    "L50sec = np.linspace(30,86400-30,1440)\n",
    "print(f':: L50sec.size         = {L50sec.size}')\n",
    "print(f':: min(L50sec)         = {min(L50sec)}')\n",
    "print(f':: max(L50sec)         = {max(L50sec)}')\n",
    "# Quantify missing samples in each minute\n",
    "samples_per_min = sample_rate * 60  # samples per minute\n",
    "print(f':: samples per minute  = {samples_per_min}')\n",
    "zero_check = np.reshape(v,(-1,samples_per_min))\n",
    "print(f':: zero count array shape    = {zero_check.shape}')\n",
    "zero_count = (zero_check == 0).sum(1)\n",
    "plt.plot(zero_count)\n",
    "plt.ylabel('Zero count')\n",
    "plt.xlabel('Minute of day')\n",
    "plt.title('Zero values per minute in original data')"
   ]
  },
  {
   "cell_type": "markdown",
   "metadata": {
    "id": "ywhwvqtwVhoY"
   },
   "source": [
    "In this day of recording, there was only a single zero value.  With the data having a DC offset, zero is a rare but possible real value.  In contrast, data gaps will be apparent as all samples in a series of minutes being zero.  We illustrate this in the time-series analysis section below."
   ]
  },
  {
   "cell_type": "markdown",
   "metadata": {
    "id": "ZAgdxP88IFcF"
   },
   "source": [
    "### View results\n",
    "Finally, plot the results - both the 1-second spectrum levels and 1-minute median values."
   ]
  },
  {
   "cell_type": "code",
   "execution_count": null,
   "metadata": {
    "id": "ksmQRTJnISAY"
   },
   "outputs": [],
   "source": [
    "plt.figure(dpi=200, figsize = [9,3])\n",
    "plt.plot(band_psd,\".\",color=\"lightgray\",markersize=2)\n",
    "plt.plot(L50sec,L50)\n",
    "plt.vlines((27500,38000),ymin=72, ymax=97, linestyles=\"dashed\")\n",
    "plt.xlim(0,86400)\n",
    "plt.ylim((72,97))\n",
    "plt.xlabel(\"Second of day\")\n",
    "plt.ylabel(\"Spectrum level (dB re 1 $\\mu$Pa$^2$/Hz)\")\n",
    "plt.title(\"1-second band PSD and 1-minute median\")"
   ]
  },
  {
   "cell_type": "markdown",
   "metadata": {
    "id": "q5tIXJV3Li4K"
   },
   "source": [
    "The results above indicate multiple periods of elevated signal in the focal frequency band, with the strongest rise and fall during the period hilighted (between the dashed lines).  Let's take a look at the full spectrogram for that period."
   ]
  },
  {
   "cell_type": "code",
   "execution_count": null,
   "metadata": {
    "id": "TanV4v_MN6Bb"
   },
   "outputs": [],
   "source": [
    "# Plot spectrogram for the highlighted time period.\n",
    "# Exclude the highest frequencies (attenuated by the decimation filter). \n",
    "filter_index = np.where(np.logical_and(f >= 10, f <= 875))\n",
    "filtered_psd = np.squeeze(10*np.log10(psd[filter_index,27500:38000])-sens)\n",
    "plt.figure(dpi=200, figsize = [9,3])\n",
    "plt.imshow(filtered_psd,aspect='auto',origin='lower',vmin=40,vmax=100)\n",
    "num_secs = filtered_psd.shape[1]\n",
    "plt.plot([1, num_secs-1],[56, 56],'k--')\n",
    "plt.plot([1, num_secs-1],[71, 71],'k--')\n",
    "plt.ylim(10,175)\n",
    "plt.colorbar()\n",
    "plt.xlabel('Seconds')\n",
    "plt.ylabel('Frequency (Hz)')\n",
    "plt.title('Spectrum level (dB re 1 $\\mu$Pa$^2$/Hz)')\n"
   ]
  },
  {
   "cell_type": "markdown",
   "metadata": {
    "id": "BmaRw-Di-JR1"
   },
   "source": [
    "Noise from distant shipping is largely below 100 Hz at this recording site, and we can see that the band used for the shipping noise metric (dashed black lines) captures the upper frequency limit of the noise.  Although shipping noise is much greater at lower frequencies, other sound sources in that lower frequencies would confound the analysis. "
   ]
  },
  {
   "cell_type": "markdown",
   "metadata": {
    "id": "NYHeb0Cz8E90"
   },
   "source": [
    "## Time-series analysis\n",
    "---\n",
    "Now that we have illustrated the methods of computing 1-minute median spectrum levels for the focal frequency band, we can execute batch processing of the audio data to extract time-series statistics.  The study that motivated this tutorial examined monthly statistics across years.  For illustration puruposes here, we'll produce daily statistics for the month of the day examined above."
   ]
  },
  {
   "cell_type": "code",
   "execution_count": null,
   "metadata": {
    "id": "h6DIfM9sYdTe"
   },
   "outputs": [],
   "source": [
    "# Determine the number of data files available for the month\n",
    "num_files = 0\n",
    "for obj in s3.list_objects_v2(Bucket=bucket, Prefix=f'{year}/{month}')['Contents']:\n",
    "    print(obj['Key'])\n",
    "    num_files = num_files+1"
   ]
  },
  {
   "cell_type": "code",
   "execution_count": null,
   "metadata": {
    "id": "0QhH1Z4DL3Gd"
   },
   "outputs": [],
   "source": [
    "# Batch process the month of daily files\n",
    "\n",
    "# Initialize arrays to hold 1-minute median and zero count results \n",
    "# dimensions: number of days x number of minutes per day\n",
    "L50m = np.zeros((num_files,1440))\n",
    "zero_count = np.zeros((num_files,1440))\n",
    "X = -1   # first row index will be 0 after increment\n",
    "\n",
    "for obj in s3.list_objects_v2(Bucket=bucket, Prefix=f'{year}/{month}')['Contents']:\n",
    "  # read file\n",
    "  filename = obj['Key']\n",
    "  url = f'https://{bucket}.s3.amazonaws.com/{filename}'\n",
    "  print(f'Reading from {url}')\n",
    "  v, fs = sf.read(io.BytesIO(urlopen(url).read()),dtype='float32')\n",
    "  v = v*3   # convert scaled voltage to volts\n",
    "  # Compute spectrogram \n",
    "  f, t, psd = scipy.signal.spectrogram(v, fs,nperseg=fs,noverlap=0,window=w,nfft=fs)\n",
    "  # Average for one-third octave band centered at 63 Hz\n",
    "  idx = np.where(np.logical_and(f>=56, f<=71))\n",
    "  psd_sub = np.squeeze(psd[idx,:])\n",
    "  band_psd = np.mean(psd_sub,axis=0)\n",
    "  band_psd = 10*np.log10(band_psd)-sens   # conver to dB\n",
    "  # 1-minute median\n",
    "  band_psd_median = np.median(np.reshape(band_psd,(1440,60)),axis=1)\n",
    "  # zero count\n",
    "  zero_check = np.reshape(v,(-1,samples_per_min))\n",
    "  zero_count = (zero_check == 0).sum(1)\n",
    "  # Place in monthly arrays\n",
    "  X = X+1\n",
    "  L50m[X,:] = band_psd_median\n",
    "  zero_count[X,:] = zero_count\n",
    "\n",
    "  # maxzerocount = .01*samples_per_min  # maximum zero count\n",
    "  # print(f':: zero count limit.   = {maxzerocount}')\n",
    "  # Derive a time reference from metadata or file name\n"
   ]
  },
  {
   "cell_type": "markdown",
   "metadata": {
    "id": "7o-f14RWZOzl"
   },
   "source": [
    "The 1-minute median spectrum levels for the entire month illustrate temporal variations in shipping activity as well as dynamic range within the focal frequency band."
   ]
  },
  {
   "cell_type": "code",
   "execution_count": null,
   "metadata": {
    "id": "k_dM4qMeXkTV"
   },
   "outputs": [],
   "source": [
    "plt.figure(dpi=200, figsize = [9,3])\n",
    "plt.imshow(L50m,aspect='auto',origin='lower')\n",
    "plt.xlabel('Minute of day')\n",
    "plt.ylabel('Day of month')\n",
    "plt.title('1-minute median spectrum level')\n",
    "plt.colorbar()"
   ]
  },
  {
   "cell_type": "markdown",
   "metadata": {
    "id": "Qb0PtuMlZZLj"
   },
   "source": [
    "The white band in the plot above indicates missing data, as illustrated by the zero count below."
   ]
  },
  {
   "cell_type": "code",
   "execution_count": null,
   "metadata": {
    "id": "yxAO-T9jbvoz"
   },
   "outputs": [],
   "source": [
    "plt.figure(dpi=200, figsize = [9,3])\n",
    "plt.imshow(zero_count,aspect='auto',origin='lower')\n",
    "plt.xlabel('Minute of day')\n",
    "plt.ylabel('Day of month')\n",
    "plt.title('Number of zero values in each minute of original data')\n",
    "plt.colorbar()"
   ]
  },
  {
   "cell_type": "markdown",
   "metadata": {
    "id": "eQ_BSSrKZmWb"
   },
   "source": [
    "While it is useful to examine the computed statistics in the arrays in which they were accumulated, as above, box plots are a more effective way to summarize the results.  The example below does not handle the missing data on days 21 and 22 effectively, but it illustrates how graphic examination of the interquartile range can provide an effective summary of day-to-day variations."
   ]
  },
  {
   "cell_type": "code",
   "execution_count": null,
   "metadata": {
    "id": "ZW3mt66FkRvJ"
   },
   "outputs": [],
   "source": [
    "plt.figure(dpi=200, figsize = [9,3])\n",
    "plt.boxplot(np.array(L50m).T)\n",
    "plt.xlabel('Day of Month')\n",
    "plt.ylabel('Spectrum level (dB re 1 $\\mu$Pa$^2$/Hz)')"
   ]
  },
  {
   "cell_type": "markdown",
   "metadata": {
    "id": "TvkJOkSE-9fp"
   },
   "source": [
    "## References\n",
    "Dekeling, R. P. A., Tasker, M. L., Van der Graaf, A. J., Ainslie, M. A., Andersson, M. H., Andreì, M., et al. (2014). Monitoring Guidance for Underwater Noise in European Seas, Part II: Monitoring Guidance Specifications, JRC Scientific and Policy Report EUR 26555 EN. Luxembourg: Publications Office of the European Union.\n",
    "\n",
    "ISO, (2017). International Standard ISO 18405:2017(E), Underwater Acoustics – Terminology. Geneva: ISO."
   ]
  }
 ],
 "metadata": {
  "colab": {
   "collapsed_sections": [],
   "machine_shape": "hm",
   "name": "ShippingNoiseAnalysis.ipynb",
   "private_outputs": true,
   "provenance": [],
   "toc_visible": true
  },
  "kernelspec": {
   "display_name": "Python 3 (ipykernel)",
   "language": "python",
   "name": "python3"
  },
  "language_info": {
   "codemirror_mode": {
    "name": "ipython",
    "version": 3
   },
   "file_extension": ".py",
   "mimetype": "text/x-python",
   "name": "python",
   "nbconvert_exporter": "python",
   "pygments_lexer": "ipython3",
   "version": "3.7.11"
  }
 },
 "nbformat": 4,
 "nbformat_minor": 1
}